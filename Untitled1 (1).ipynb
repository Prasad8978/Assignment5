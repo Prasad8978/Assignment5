{
 "cells": [
  {
   "cell_type": "code",
   "execution_count": 36,
   "id": "d8154e15",
   "metadata": {},
   "outputs": [
    {
     "name": "stdout",
     "output_type": "stream",
     "text": [
      "x:5\n",
      "n:2\n",
      "25\n"
     ]
    }
   ],
   "source": [
    "import math\n",
    "class hello:\n",
    "    def __init__(self,x,n):\n",
    "        self.x = int(input('x:' ))\n",
    "        self.n = int(input('n:' ))\n",
    "    def ok(self):\n",
    "        print(pow(self.x,self.n))\n",
    "b = hello('x','n')\n",
    "b.ok()"
   ]
  },
  {
   "cell_type": "code",
   "execution_count": null,
   "id": "bbf83541",
   "metadata": {},
   "outputs": [],
   "source": []
  }
 ],
 "metadata": {
  "kernelspec": {
   "display_name": "Python 3 (ipykernel)",
   "language": "python",
   "name": "python3"
  },
  "language_info": {
   "codemirror_mode": {
    "name": "ipython",
    "version": 3
   },
   "file_extension": ".py",
   "mimetype": "text/x-python",
   "name": "python",
   "nbconvert_exporter": "python",
   "pygments_lexer": "ipython3",
   "version": "3.10.0"
  }
 },
 "nbformat": 4,
 "nbformat_minor": 5
}
