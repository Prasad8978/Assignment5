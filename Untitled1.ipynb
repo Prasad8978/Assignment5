{
 "cells": [
  {
   "cell_type": "code",
   "execution_count": 16,
   "id": "a0584a52",
   "metadata": {},
   "outputs": [
    {
     "name": "stdout",
     "output_type": "stream",
     "text": [
      "enter the number x: 4\n",
      "enter the number n: 4\n",
      "4 th power of the 4  is:  256\n"
     ]
    }
   ],
   "source": [
    "class enp:\n",
    "    def __init__(self,x,n):\n",
    "        self.x=int(input('enter the number x: '))\n",
    "        self.n=int(input('enter the number n: '))\n",
    "    def output(self):\n",
    "        print(self.n,'th power of the',self.x,' is: ',self.x**self.n)\n",
    "a = enp('x','n')\n",
    "a.output()"
   ]
  },
  {
   "cell_type": "code",
   "execution_count": null,
   "id": "bda2a95d",
   "metadata": {},
   "outputs": [],
   "source": []
  }
 ],
 "metadata": {
  "kernelspec": {
   "display_name": "Python 3 (ipykernel)",
   "language": "python",
   "name": "python3"
  },
  "language_info": {
   "codemirror_mode": {
    "name": "ipython",
    "version": 3
   },
   "file_extension": ".py",
   "mimetype": "text/x-python",
   "name": "python",
   "nbconvert_exporter": "python",
   "pygments_lexer": "ipython3",
   "version": "3.10.0"
  }
 },
 "nbformat": 4,
 "nbformat_minor": 5
}
